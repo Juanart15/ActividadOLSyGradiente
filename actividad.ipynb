{
 "cells": [
  {
   "cell_type": "code",
   "execution_count": 332,
   "metadata": {},
   "outputs": [],
   "source": [
    "import pandas as pd\n",
    "import seaborn as sns\n",
    "import matplotlib.pyplot as plt\n",
    "from scipy import stats\n",
    "import numpy as np\n",
    "\n",
    "df = pd.read_csv(\"synthetic_dataset.csv\")"
   ]
  },
  {
   "cell_type": "markdown",
   "metadata": {},
   "source": [
    "## Estimación de Parámetros con OLS"
   ]
  },
  {
   "cell_type": "code",
   "execution_count": 333,
   "metadata": {},
   "outputs": [
    {
     "data": {
      "text/html": [
       "<div>\n",
       "<style scoped>\n",
       "    .dataframe tbody tr th:only-of-type {\n",
       "        vertical-align: middle;\n",
       "    }\n",
       "\n",
       "    .dataframe tbody tr th {\n",
       "        vertical-align: top;\n",
       "    }\n",
       "\n",
       "    .dataframe thead th {\n",
       "        text-align: right;\n",
       "    }\n",
       "</style>\n",
       "<table border=\"1\" class=\"dataframe\">\n",
       "  <thead>\n",
       "    <tr style=\"text-align: right;\">\n",
       "      <th></th>\n",
       "      <th>X1</th>\n",
       "      <th>X2</th>\n",
       "      <th>X3</th>\n",
       "      <th>X4</th>\n",
       "      <th>X5</th>\n",
       "      <th>X6</th>\n",
       "      <th>X7</th>\n",
       "      <th>X8</th>\n",
       "      <th>X9</th>\n",
       "      <th>X10</th>\n",
       "      <th>X11</th>\n",
       "      <th>X12</th>\n",
       "      <th>X13</th>\n",
       "      <th>X14</th>\n",
       "      <th>X15</th>\n",
       "      <th>Y</th>\n",
       "    </tr>\n",
       "  </thead>\n",
       "  <tbody>\n",
       "    <tr>\n",
       "      <th>0</th>\n",
       "      <td>4.967142</td>\n",
       "      <td>-1.382643</td>\n",
       "      <td>NaN</td>\n",
       "      <td>15.230299</td>\n",
       "      <td>-2.341534</td>\n",
       "      <td>-2.341370</td>\n",
       "      <td>15.792128</td>\n",
       "      <td>7.674347</td>\n",
       "      <td>-4.694744</td>\n",
       "      <td>5.425600</td>\n",
       "      <td>-4.634177</td>\n",
       "      <td>-4.657298</td>\n",
       "      <td>2.419623</td>\n",
       "      <td>-19.132802</td>\n",
       "      <td>-17.249178</td>\n",
       "      <td>152.273643</td>\n",
       "    </tr>\n",
       "    <tr>\n",
       "      <th>1</th>\n",
       "      <td>-5.622875</td>\n",
       "      <td>-10.128311</td>\n",
       "      <td>3.142473</td>\n",
       "      <td>-9.080241</td>\n",
       "      <td>-14.123037</td>\n",
       "      <td>14.656488</td>\n",
       "      <td>-2.257763</td>\n",
       "      <td>NaN</td>\n",
       "      <td>-14.247482</td>\n",
       "      <td>-5.443827</td>\n",
       "      <td>1.109226</td>\n",
       "      <td>-11.509936</td>\n",
       "      <td>3.756980</td>\n",
       "      <td>-6.006387</td>\n",
       "      <td>-2.916937</td>\n",
       "      <td>144.947630</td>\n",
       "    </tr>\n",
       "    <tr>\n",
       "      <th>2</th>\n",
       "      <td>-6.017066</td>\n",
       "      <td>18.522782</td>\n",
       "      <td>-0.134972</td>\n",
       "      <td>-10.577109</td>\n",
       "      <td>8.225449</td>\n",
       "      <td>NaN</td>\n",
       "      <td>2.088636</td>\n",
       "      <td>-19.596701</td>\n",
       "      <td>-13.281860</td>\n",
       "      <td>1.968612</td>\n",
       "      <td>7.384666</td>\n",
       "      <td>1.713683</td>\n",
       "      <td>-1.156483</td>\n",
       "      <td>-3.011037</td>\n",
       "      <td>-14.785220</td>\n",
       "      <td>188.449076</td>\n",
       "    </tr>\n",
       "    <tr>\n",
       "      <th>3</th>\n",
       "      <td>-7.198442</td>\n",
       "      <td>-4.606388</td>\n",
       "      <td>NaN</td>\n",
       "      <td>3.436183</td>\n",
       "      <td>-17.630402</td>\n",
       "      <td>3.240840</td>\n",
       "      <td>-3.850823</td>\n",
       "      <td>-6.769220</td>\n",
       "      <td>6.116763</td>\n",
       "      <td>10.309995</td>\n",
       "      <td>9.312801</td>\n",
       "      <td>NaN</td>\n",
       "      <td>-3.092124</td>\n",
       "      <td>3.312634</td>\n",
       "      <td>9.755451</td>\n",
       "      <td>107.875692</td>\n",
       "    </tr>\n",
       "    <tr>\n",
       "      <th>4</th>\n",
       "      <td>-4.791742</td>\n",
       "      <td>-1.856590</td>\n",
       "      <td>-11.063350</td>\n",
       "      <td>-11.962066</td>\n",
       "      <td>8.125258</td>\n",
       "      <td>13.562400</td>\n",
       "      <td>-0.720101</td>\n",
       "      <td>10.035329</td>\n",
       "      <td>3.616360</td>\n",
       "      <td>-6.451198</td>\n",
       "      <td>3.613956</td>\n",
       "      <td>15.380366</td>\n",
       "      <td>-0.358260</td>\n",
       "      <td>15.646437</td>\n",
       "      <td>-26.197451</td>\n",
       "      <td>-78.724744</td>\n",
       "    </tr>\n",
       "  </tbody>\n",
       "</table>\n",
       "</div>"
      ],
      "text/plain": [
       "         X1         X2         X3         X4         X5         X6         X7  \\\n",
       "0  4.967142  -1.382643        NaN  15.230299  -2.341534  -2.341370  15.792128   \n",
       "1 -5.622875 -10.128311   3.142473  -9.080241 -14.123037  14.656488  -2.257763   \n",
       "2 -6.017066  18.522782  -0.134972 -10.577109   8.225449        NaN   2.088636   \n",
       "3 -7.198442  -4.606388        NaN   3.436183 -17.630402   3.240840  -3.850823   \n",
       "4 -4.791742  -1.856590 -11.063350 -11.962066   8.125258  13.562400  -0.720101   \n",
       "\n",
       "          X8         X9        X10       X11        X12       X13        X14  \\\n",
       "0   7.674347  -4.694744   5.425600 -4.634177  -4.657298  2.419623 -19.132802   \n",
       "1        NaN -14.247482  -5.443827  1.109226 -11.509936  3.756980  -6.006387   \n",
       "2 -19.596701 -13.281860   1.968612  7.384666   1.713683 -1.156483  -3.011037   \n",
       "3  -6.769220   6.116763  10.309995  9.312801        NaN -3.092124   3.312634   \n",
       "4  10.035329   3.616360  -6.451198  3.613956  15.380366 -0.358260  15.646437   \n",
       "\n",
       "         X15           Y  \n",
       "0 -17.249178  152.273643  \n",
       "1  -2.916937  144.947630  \n",
       "2 -14.785220  188.449076  \n",
       "3   9.755451  107.875692  \n",
       "4 -26.197451  -78.724744  "
      ]
     },
     "execution_count": 333,
     "metadata": {},
     "output_type": "execute_result"
    }
   ],
   "source": [
    "df.head()"
   ]
  },
  {
   "cell_type": "code",
   "execution_count": 334,
   "metadata": {},
   "outputs": [
    {
     "name": "stdout",
     "output_type": "stream",
     "text": [
      "X1     205\n",
      "X2     202\n",
      "X3     210\n",
      "X4     222\n",
      "X5     210\n",
      "X6     195\n",
      "X7     185\n",
      "X8     193\n",
      "X9     195\n",
      "X10    195\n",
      "X11    189\n",
      "X12    198\n",
      "X13    211\n",
      "X14    198\n",
      "X15    192\n",
      "Y        0\n",
      "dtype: int64\n"
     ]
    }
   ],
   "source": [
    "print(df.isnull().sum())"
   ]
  },
  {
   "cell_type": "code",
   "execution_count": 335,
   "metadata": {},
   "outputs": [
    {
     "name": "stdout",
     "output_type": "stream",
     "text": [
      "Total de datos: 4000\n",
      "El porcentaje que representan de datos nulos en cada una de las categorías son los siguientes:\n",
      "X1: 5.12%\n",
      "X2: 5.05%\n",
      "X3: 5.25%\n",
      "X4: 5.55%\n",
      "X5: 5.25%\n",
      "\n"
     ]
    }
   ],
   "source": [
    "total_datos = 4000 \n",
    "print(f\"Total de datos: {total_datos}\")\n",
    "\n",
    "X1 = (205 / total_datos) * 100\n",
    "X2 = (202 / total_datos) * 100\n",
    "X3 = (210 / total_datos) * 100\n",
    "X4 = (222 / total_datos) * 100\n",
    "X5 = (210 / total_datos) * 100\n",
    "\n",
    "print(f\"El porcentaje que representan de datos nulos en cada una de las categorías son los siguientes:\\n\"\n",
    "      f\"X1: {X1:.2f}%\\n\"\n",
    "      f\"X2: {X2:.2f}%\\n\"\n",
    "      f\"X3: {X3:.2f}%\\n\"\n",
    "      f\"X4: {X4:.2f}%\\n\"\n",
    "      f\"X5: {X5:.2f}%\\n\"\n",
    ")"
   ]
  },
  {
   "cell_type": "markdown",
   "metadata": {},
   "source": [
    "## Normalización"
   ]
  },
  {
   "cell_type": "code",
   "execution_count": 336,
   "metadata": {},
   "outputs": [
    {
     "name": "stdout",
     "output_type": "stream",
     "text": [
      " X1: Estadístico = 3.165120884485229, p-valor = 0.20544838545904986\n",
      " Los datos siguen una distribución normal.\n",
      "\n",
      " X2: Estadístico = 1.107147111082594, p-valor = 0.5748917277151018\n",
      " Los datos siguen una distribución normal.\n",
      "\n",
      " X3: Estadístico = 0.8312062793277601, p-valor = 0.6599421233743414\n",
      " Los datos siguen una distribución normal.\n",
      "\n",
      " X4: Estadístico = 1.0703099682544395, p-valor = 0.5855785277345695\n",
      " Los datos siguen una distribución normal.\n",
      "\n",
      " X5: Estadístico = 3.4799554217609905, p-valor = 0.17552431285578177\n",
      " Los datos siguen una distribución normal.\n",
      "\n"
     ]
    }
   ],
   "source": [
    "numerical_cols = np.array([\"X1\", \"X2\", \"X3\", \"X4\", \"X5\"])\n",
    "for col in numerical_cols:  \n",
    "    if col in df.columns:  \n",
    "        stat, p_value = stats.normaltest(df[col].dropna())  \n",
    "        print(f\" {col}: Estadístico = {stat}, p-valor = {p_value}\")\n",
    "\n",
    "        if p_value < 0.05:\n",
    "            print(\" Los datos NO siguen una distribución normal.\\n\")\n",
    "        else:\n",
    "            print(\" Los datos siguen una distribución normal.\\n\")\n",
    "    else:\n",
    "        print(f\" La columna '{col}' no existe en el DataFrame.\\n\")"
   ]
  },
  {
   "cell_type": "markdown",
   "metadata": {},
   "source": [
    "Si el porcentaje de valores faltantes es 5%, lo ideal es imputarlos en lugar de eliminarlos para no perder información. En este caso, utilizaremos la imputación con la media, ya que es una estrategia efectiva cuando los datos siguen una distribución aproximadamente normal y no presentan valores atípicos significativos.\n",
    "\n",
    "Para imputar los valores faltantes con la media en un DataFrame de pandas, puedes usar el siguiente código:"
   ]
  },
  {
   "cell_type": "code",
   "execution_count": 337,
   "metadata": {},
   "outputs": [
    {
     "name": "stdout",
     "output_type": "stream",
     "text": [
      "X1     0\n",
      "X2     0\n",
      "X3     0\n",
      "X4     0\n",
      "X5     0\n",
      "X6     0\n",
      "X7     0\n",
      "X8     0\n",
      "X9     0\n",
      "X10    0\n",
      "X11    0\n",
      "X12    0\n",
      "X13    0\n",
      "X14    0\n",
      "X15    0\n",
      "Y      0\n",
      "dtype: int64\n"
     ]
    }
   ],
   "source": [
    "df.fillna(df.mean(), inplace=True)\n",
    "print(df.isnull().sum())"
   ]
  },
  {
   "cell_type": "code",
   "execution_count": 338,
   "metadata": {},
   "outputs": [
    {
     "data": {
      "text/plain": [
       "Text(0.5, 1.0, 'Matriz de Correlación')"
      ]
     },
     "execution_count": 338,
     "metadata": {},
     "output_type": "execute_result"
    },
    {
     "data": {
      "image/png": "[encoded data removed]",
      "text/plain": [
       "<Figure size 1000x800 with 2 Axes>"
      ]
     },
     "metadata": {},
     "output_type": "display_data"
    }
   ],
   "source": [
    "columnas = ['X1', 'X2', 'X3',  'X4','X5' ]\n",
    "\n",
    "corr_mat = df[columnas].corr()\n",
    "\n",
    "plt.figure(figsize=(10, 8))\n",
    "sns.heatmap(corr_mat, cmap=sns.diverging_palette(220, 10, as_cmap=True), annot=True, fmt=\".2f\")\n",
    "plt.title(\"Matriz de Correlación\", fontsize=14, fontweight=\"bold\")"
   ]
  },
  {
   "cell_type": "markdown",
   "metadata": {},
   "source": [
    "## Numpy"
   ]
  },
  {
   "cell_type": "code",
   "execution_count": 339,
   "metadata": {},
   "outputs": [
    {
     "name": "stdout",
     "output_type": "stream",
     "text": [
      "Coeficientes estimados (β):\n",
      "\n",
      "β0 (Intercepto): -0.9999\n",
      "β1 (X1): -2.9919\n",
      "β2 (X2): 4.5712\n",
      "β3 (X3): 4.8661\n",
      "β4 (X4): 0.5465\n",
      "β5 (X5): -3.2882\n"
     ]
    }
   ],
   "source": [
    "import numpy as np\n",
    "\n",
    "X = df[[\"X1\", \"X2\", \"X3\", \"X4\", \"X5\"]].values\n",
    "y = df[\"Y\"].values\n",
    "\n",
    "# Agregar columna de unos para el término independiente (β0)\n",
    "X_b = np.c_[np.ones((X.shape[0], 1)), X]  # Añade una columna de unos a X\n",
    "\n",
    "# 3️⃣ Cálculo de los coeficientes usando la fórmula OLS: β = (XᵀX)⁻¹ Xᵀy\n",
    "XT_X = X_b.T @ X_b  # Multiplicación de la transpuesta de X por X\n",
    "\n",
    "XT_X_inv = np.linalg.inv(XT_X)  # Inversa de (XᵀX)\n",
    "\n",
    "XT_y = X_b.T @ y  # Multiplicación de la transpuesta de X por y\n",
    "\n",
    "beta = XT_X_inv @ XT_y  # Cálculo final de los coeficientes\n",
    "\n",
    "print(f\"Coeficientes estimados (β):\\n\")\n",
    "print(f\"β0 (Intercepto): {beta[0]:.4f}\")\n",
    "print(f\"β1 (X1): {beta[1]:.4f}\")\n",
    "print(f\"β2 (X2): {beta[2]:.4f}\")\n",
    "print(f\"β3 (X3): {beta[3]:.4f}\")\n",
    "print(f\"β4 (X4): {beta[4]:.4f}\")\n",
    "print(f\"β5 (X5): {beta[5]:.4f}\")"
   ]
  },
  {
   "cell_type": "markdown",
   "metadata": {},
   "source": [
    "Comprobar modelo obtenido por medio de la libreria (stasmodel)"
   ]
  },
  {
   "cell_type": "code",
   "execution_count": 340,
   "metadata": {},
   "outputs": [
    {
     "name": "stdout",
     "output_type": "stream",
     "text": [
      "                            OLS Regression Results                            \n",
      "==============================================================================\n",
      "Dep. Variable:                      y   R-squared:                       0.401\n",
      "Model:                            OLS   Adj. R-squared:                  0.401\n",
      "Method:                 Least Squares   F-statistic:                     535.3\n",
      "Date:                Thu, 27 Feb 2025   Prob (F-statistic):               0.00\n",
      "Time:                        22:52:19   Log-Likelihood:                -23886.\n",
      "No. Observations:                4000   AIC:                         4.778e+04\n",
      "Df Residuals:                    3994   BIC:                         4.782e+04\n",
      "Df Model:                           5                                         \n",
      "Covariance Type:            nonrobust                                         \n",
      "==============================================================================\n",
      "                 coef    std err          t      P>|t|      [0.025      0.975]\n",
      "------------------------------------------------------------------------------\n",
      "const         -0.9999      1.502     -0.666      0.506      -3.945       1.945\n",
      "x1            -2.9919      0.151    -19.810      0.000      -3.288      -2.696\n",
      "x2             4.5712      0.154     29.653      0.000       4.269       4.873\n",
      "x3             4.8661      0.155     31.472      0.000       4.563       5.169\n",
      "x4             0.5465      0.155      3.525      0.000       0.243       0.850\n",
      "x5            -3.2882      0.158    -20.791      0.000      -3.598      -2.978\n",
      "==============================================================================\n",
      "Omnibus:                        0.069   Durbin-Watson:                   1.972\n",
      "Prob(Omnibus):                  0.966   Jarque-Bera (JB):                0.043\n",
      "Skew:                          -0.001   Prob(JB):                        0.979\n",
      "Kurtosis:                       3.016   Cond. No.                         10.1\n",
      "==============================================================================\n",
      "\n",
      "Notes:\n",
      "[1] Standard Errors assume that the covariance matrix of the errors is correctly specified.\n"
     ]
    }
   ],
   "source": [
    "import statsmodels.api as sm\n",
    "import pandas as pd\n",
    "\n",
    "# Suponiendo que tienes un DataFrame llamado df con variables \"X\" y \"y\"\n",
    "X = df[[\"X1\", \"X2\", \"X3\", \"X4\", \"X5\"]].values  # Variable independiente (predictor)\n",
    "y = df['Y'].values  # Variable dependiente (objetivo)\n",
    "\n",
    "# Agregar una constante para el término de intercepto\n",
    "X = sm.add_constant(X)\n",
    "\n",
    "# Ajustar el modelo de regresión\n",
    "modelo = sm.OLS(y, X).fit()\n",
    "\n",
    "# Mostrar el resumen del modelo\n",
    "print(modelo.summary())"
   ]
  },
  {
   "cell_type": "markdown",
   "metadata": {},
   "source": [
    "##  Estimación de Parámetros con Gradient Descent "
   ]
  },
  {
   "cell_type": "markdown",
   "metadata": {},
   "source": [
    "Los coeficientes (θ), que inicialmente se pueden establecer en 0 o valores aleatorios.\n",
    "\n",
    "La tasa de aprendizaje (α), que determina cuánto cambian los coeficientes en cada iteración.\n",
    "\n",
    "El número de iteraciones (epochs), que define cuántas veces se actualizarán los coeficientes."
   ]
  },
  {
   "cell_type": "code",
   "execution_count": 341,
   "metadata": {},
   "outputs": [
    {
     "name": "stdout",
     "output_type": "stream",
     "text": [
      "Paso 1 - Datos y parámetros iniciales:\n",
      "X con bias:\n",
      " [[  1.           1.           4.96714153 ...   0.17416585  15.23029856\n",
      "   -2.34153375]\n",
      " [  1.           1.          -5.62287529 ...   3.14247333  -9.08024076\n",
      "  -14.12303701]\n",
      " [  1.           1.          -6.01706612 ...  -0.13497225 -10.57710929\n",
      "    8.22544912]\n",
      " ...\n",
      " [  1.           1.           7.87651287 ...   3.77975684   0.2359561\n",
      "   -1.33503315]\n",
      " [  1.           1.          19.51254434 ...  19.37021313  -1.25082575\n",
      "    5.89664406]\n",
      " [  1.           1.           7.64050782 ...  -2.73401072  -2.59206311\n",
      "    2.74768867]]\n",
      "y:\n",
      " [152.27364346 144.94763031 188.44907577 ...  41.76648087  18.26986345\n",
      " -27.13913431]\n",
      "Theta inicial: [0. 0. 0. 0. 0. 0. 0.]\n"
     ]
    }
   ],
   "source": [
    "X = np.c_[np.ones(X.shape[0]), X]  \n",
    "\n",
    "theta = np.zeros(X.shape[1])  \n",
    "\n",
    "alpha = 0.01  # Tasa de aprendizaje\n",
    "epochs = 1000  # Número de iteraciones\n",
    "\n",
    "print(\"Paso 1 - Datos y parámetros iniciales:\")\n",
    "print(\"X con bias:\\n\", X)\n",
    "print(\"y:\\n\", y)\n",
    "print(\"Theta inicial:\", theta)"
   ]
  },
  {
   "cell_type": "markdown",
   "metadata": {},
   "source": [
    "Definir la función de costo (MSE)\n",
    "Se define la función de costo."
   ]
  },
  {
   "cell_type": "code",
   "execution_count": 342,
   "metadata": {},
   "outputs": [
    {
     "name": "stdout",
     "output_type": "stream",
     "text": [
      "Paso 2 - Cálculo de costo inicial: 7518.21802432855\n"
     ]
    }
   ],
   "source": [
    "def compute_cost(X, y, theta):\n",
    "    m = len(y)  # Número de datos\n",
    "    y_pred = X.dot(theta)  # Predicciones\n",
    "    error = y_pred - y  # Error\n",
    "    cost = (1/(2*m)) * np.sum(error**2)  # MSE\n",
    "    return cost\n",
    "\n",
    "print(\"Paso 2 - Cálculo de costo inicial:\", compute_cost(X, y, theta))"
   ]
  },
  {
   "cell_type": "markdown",
   "metadata": {},
   "source": [
    "Calcular el gradiente\n",
    "Se calcula la derivada de la función de costo con respecto a los coeficientes."
   ]
  },
  {
   "cell_type": "code",
   "execution_count": 343,
   "metadata": {},
   "outputs": [
    {
     "name": "stdout",
     "output_type": "stream",
     "text": [
      "Paso 3 - Gradiente inicial: [   0.48823699    0.48823699  299.5275933  -427.41809279 -450.36347109\n",
      "  -40.04651997  294.93589831]\n"
     ]
    }
   ],
   "source": [
    "def compute_gradient(X, y, theta):\n",
    "    m = len(y)\n",
    "    y_pred = X.dot(theta)  # Predicciones\n",
    "    error = y_pred - y  # Error\n",
    "    gradient = (1/m) * X.T.dot(error)  # Gradiente\n",
    "    return gradient\n",
    "\n",
    "print(\"Paso 3 - Gradiente inicial:\", compute_gradient(X, y, theta))"
   ]
  },
  {
   "cell_type": "markdown",
   "metadata": {},
   "source": [
    "Actualizar los coeficientes\n",
    "Se ajustan los coeficientes usando la regla de actualización de Gradient Descent."
   ]
  },
  {
   "cell_type": "code",
   "execution_count": 344,
   "metadata": {},
   "outputs": [
    {
     "name": "stdout",
     "output_type": "stream",
     "text": [
      "Paso 4 - Ejecutando Gradient Descent...\n",
      "Iteración 0: Costo = 4518.1019, Theta = [-0.00488237 -0.00488237 -2.99527593  4.27418093  4.50363471  0.4004652\n",
      " -2.94935898]\n",
      "Iteración 100: Costo = 4501.3917, Theta = [-0.43415165 -0.43415165 -2.99171084  4.57137821  4.86589094  0.54643811\n",
      " -3.28824317]\n"
     ]
    },
    {
     "name": "stdout",
     "output_type": "stream",
     "text": [
      "Iteración 200: Costo = 4501.3832, Theta = [-0.49118988 -0.49118988 -2.99189516  4.57120735  4.86610764  0.54650023\n",
      " -3.2881659 ]\n",
      "Iteración 300: Costo = 4501.3831, Theta = [-0.49876731 -0.49876731 -2.99191965  4.57118466  4.86613643  0.54650848\n",
      " -3.28815563]\n",
      "Iteración 400: Costo = 4501.3831, Theta = [-0.49977396 -0.49977396 -2.9919229   4.57118164  4.86614025  0.54650958\n",
      " -3.28815427]\n",
      "Iteración 500: Costo = 4501.3831, Theta = [-0.49990769 -0.49990769 -2.99192333  4.57118124  4.86614076  0.54650972\n",
      " -3.28815409]\n",
      "Iteración 600: Costo = 4501.3831, Theta = [-0.49992546 -0.49992546 -2.99192339  4.57118119  4.86614083  0.54650974\n",
      " -3.28815406]\n",
      "Iteración 700: Costo = 4501.3831, Theta = [-0.49992782 -0.49992782 -2.9919234   4.57118118  4.86614084  0.54650974\n",
      " -3.28815406]\n",
      "Iteración 800: Costo = 4501.3831, Theta = [-0.49992813 -0.49992813 -2.9919234   4.57118118  4.86614084  0.54650974\n",
      " -3.28815406]\n",
      "Iteración 900: Costo = 4501.3831, Theta = [-0.49992817 -0.49992817 -2.9919234   4.57118118  4.86614084  0.54650974\n",
      " -3.28815406]\n",
      "Theta final después de Gradient Descent: [-0.49992818 -0.49992818 -2.9919234   4.57118118  4.86614084  0.54650974\n",
      " -3.28815406]\n"
     ]
    }
   ],
   "source": [
    "def gradient_descent(X, y, theta, alpha, epochs):\n",
    "    m = len(y)\n",
    "    cost_history = []  # Guardar la evolución del costo\n",
    "\n",
    "    for i in range(epochs):\n",
    "        gradient = compute_gradient(X, y, theta)  # Calcular gradiente\n",
    "        theta -= alpha * gradient  # Actualizar parámetros\n",
    "        cost = compute_cost(X, y, theta)  # Calcular costo después de la actualización\n",
    "        cost_history.append(cost)\n",
    "\n",
    "        if i % 100 == 0:  # Mostrar cada 100 iteraciones\n",
    "            print(f\"Iteración {i}: Costo = {cost:.4f}, Theta = {theta}\")\n",
    "\n",
    "    return theta, cost_history\n",
    "\n",
    "print(\"Paso 4 - Ejecutando Gradient Descent...\")\n",
    "theta_final, cost_history = gradient_descent(X, y, theta, alpha, epochs)\n",
    "print(\"Theta final después de Gradient Descent:\", theta_final)"
   ]
  },
  {
   "cell_type": "markdown",
   "metadata": {},
   "source": [
    "Evaluar la convergencia\n",
    "Se grafica la evolución del costo para ver si converge correctamente."
   ]
  },
  {
   "cell_type": "code",
   "execution_count": 345,
   "metadata": {},
   "outputs": [
    {
     "data": {
      "image/png": "[encoded data removed]",
      "text/plain": [
       "<Figure size 640x480 with 1 Axes>"
      ]
     },
     "metadata": {},
     "output_type": "display_data"
    }
   ],
   "source": [
    "\n",
    "plt.plot(range(len(cost_history)), cost_history, label=\"Costo\")\n",
    "plt.xlabel(\"Iteraciones\")\n",
    "plt.ylabel(\"Costo (MSE)\")\n",
    "plt.title(\"Evolución del costo con Gradient Descent\")\n",
    "plt.legend()\n",
    "plt.show()"
   ]
  },
  {
   "cell_type": "code",
   "execution_count": 346,
   "metadata": {},
   "outputs": [
    {
     "name": "stdout",
     "output_type": "stream",
     "text": [
      "Parámetros estimados: [-0.9998126  -2.99192333  4.57118124  4.86614076  0.54650972 -3.28815409]\n"
     ]
    }
   ],
   "source": [
    "X = df[[\"X1\", \"X2\", \"X3\", \"X4\", \"X5\"]].values  # Variable independiente\n",
    "y = df['Y'].values    # Variable dependiente\n",
    "\n",
    "# Agregar una columna de unos para el término de intercepción (bias)\n",
    "X = np.c_[np.ones(X.shape[0]), X]  # Agregar columna de 1s\n",
    "\n",
    "# Inicializar parámetros (beta0 = bias, beta1 = coeficiente de X)\n",
    "theta = np.zeros(X.shape[1])  \n",
    "\n",
    "# Hiperparámetros\n",
    "alpha = 0.01  # Tasa de aprendizaje\n",
    "epochs =1000 # Número de iteraciones\n",
    "\n",
    "# Algoritmo de Gradient Descent\n",
    "m = len(y)  # Número de observaciones\n",
    "\n",
    "for i in range(epochs):\n",
    "    y_pred = X.dot(theta)  # Predicción\n",
    "    error = y_pred - y\n",
    "    gradient = (1/m) * X.T.dot(error)  # Derivada de la función de costo\n",
    "    theta -= alpha * gradient  # Actualizar los coeficientes\n",
    "\n",
    "# Mostrar los parámetros finales estimados\n",
    "print(f\"Parámetros estimados: {theta}\")"
   ]
  },
  {
   "cell_type": "markdown",
   "metadata": {},
   "source": []
  }
 ],
 "metadata": {
  "language_info": {
   "name": "python"
  }
 },
 "nbformat": 4,
 "nbformat_minor": 2
}

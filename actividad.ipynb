{
 "cells": [
  {
   "cell_type": "code",
   "execution_count": 35,
   "metadata": {},
   "outputs": [],
   "source": [
    "import pandas as pd\n",
    "import seaborn as sns\n",
    "import matplotlib.pyplot as plt\n",
    "from scipy import stats\n",
    "import numpy as np\n",
    "\n",
    "df = pd.read_csv(\"synthetic_dataset.csv\")"
   ]
  },
  {
   "cell_type": "markdown",
   "metadata": {},
   "source": [
    "## Estimación de Parámetros con OLS"
   ]
  },
  {
   "cell_type": "code",
   "execution_count": 36,
   "metadata": {},
   "outputs": [
    {
     "data": {
      "text/html": [
       "<div>\n",
       "<style scoped>\n",
       "    .dataframe tbody tr th:only-of-type {\n",
       "        vertical-align: middle;\n",
       "    }\n",
       "\n",
       "    .dataframe tbody tr th {\n",
       "        vertical-align: top;\n",
       "    }\n",
       "\n",
       "    .dataframe thead th {\n",
       "        text-align: right;\n",
       "    }\n",
       "</style>\n",
       "<table border=\"1\" class=\"dataframe\">\n",
       "  <thead>\n",
       "    <tr style=\"text-align: right;\">\n",
       "      <th></th>\n",
       "      <th>X1</th>\n",
       "      <th>X2</th>\n",
       "      <th>X3</th>\n",
       "      <th>X4</th>\n",
       "      <th>X5</th>\n",
       "      <th>X6</th>\n",
       "      <th>X7</th>\n",
       "      <th>X8</th>\n",
       "      <th>X9</th>\n",
       "      <th>X10</th>\n",
       "      <th>X11</th>\n",
       "      <th>X12</th>\n",
       "      <th>X13</th>\n",
       "      <th>X14</th>\n",
       "      <th>X15</th>\n",
       "      <th>Y</th>\n",
       "    </tr>\n",
       "  </thead>\n",
       "  <tbody>\n",
       "    <tr>\n",
       "      <th>0</th>\n",
       "      <td>4.967142</td>\n",
       "      <td>-1.382643</td>\n",
       "      <td>NaN</td>\n",
       "      <td>15.230299</td>\n",
       "      <td>-2.341534</td>\n",
       "      <td>-2.341370</td>\n",
       "      <td>15.792128</td>\n",
       "      <td>7.674347</td>\n",
       "      <td>-4.694744</td>\n",
       "      <td>5.425600</td>\n",
       "      <td>-4.634177</td>\n",
       "      <td>-4.657298</td>\n",
       "      <td>2.419623</td>\n",
       "      <td>-19.132802</td>\n",
       "      <td>-17.249178</td>\n",
       "      <td>152.273643</td>\n",
       "    </tr>\n",
       "    <tr>\n",
       "      <th>1</th>\n",
       "      <td>-5.622875</td>\n",
       "      <td>-10.128311</td>\n",
       "      <td>3.142473</td>\n",
       "      <td>-9.080241</td>\n",
       "      <td>-14.123037</td>\n",
       "      <td>14.656488</td>\n",
       "      <td>-2.257763</td>\n",
       "      <td>NaN</td>\n",
       "      <td>-14.247482</td>\n",
       "      <td>-5.443827</td>\n",
       "      <td>1.109226</td>\n",
       "      <td>-11.509936</td>\n",
       "      <td>3.756980</td>\n",
       "      <td>-6.006387</td>\n",
       "      <td>-2.916937</td>\n",
       "      <td>144.947630</td>\n",
       "    </tr>\n",
       "    <tr>\n",
       "      <th>2</th>\n",
       "      <td>-6.017066</td>\n",
       "      <td>18.522782</td>\n",
       "      <td>-0.134972</td>\n",
       "      <td>-10.577109</td>\n",
       "      <td>8.225449</td>\n",
       "      <td>NaN</td>\n",
       "      <td>2.088636</td>\n",
       "      <td>-19.596701</td>\n",
       "      <td>-13.281860</td>\n",
       "      <td>1.968612</td>\n",
       "      <td>7.384666</td>\n",
       "      <td>1.713683</td>\n",
       "      <td>-1.156483</td>\n",
       "      <td>-3.011037</td>\n",
       "      <td>-14.785220</td>\n",
       "      <td>188.449076</td>\n",
       "    </tr>\n",
       "    <tr>\n",
       "      <th>3</th>\n",
       "      <td>-7.198442</td>\n",
       "      <td>-4.606388</td>\n",
       "      <td>NaN</td>\n",
       "      <td>3.436183</td>\n",
       "      <td>-17.630402</td>\n",
       "      <td>3.240840</td>\n",
       "      <td>-3.850823</td>\n",
       "      <td>-6.769220</td>\n",
       "      <td>6.116763</td>\n",
       "      <td>10.309995</td>\n",
       "      <td>9.312801</td>\n",
       "      <td>NaN</td>\n",
       "      <td>-3.092124</td>\n",
       "      <td>3.312634</td>\n",
       "      <td>9.755451</td>\n",
       "      <td>107.875692</td>\n",
       "    </tr>\n",
       "    <tr>\n",
       "      <th>4</th>\n",
       "      <td>-4.791742</td>\n",
       "      <td>-1.856590</td>\n",
       "      <td>-11.063350</td>\n",
       "      <td>-11.962066</td>\n",
       "      <td>8.125258</td>\n",
       "      <td>13.562400</td>\n",
       "      <td>-0.720101</td>\n",
       "      <td>10.035329</td>\n",
       "      <td>3.616360</td>\n",
       "      <td>-6.451198</td>\n",
       "      <td>3.613956</td>\n",
       "      <td>15.380366</td>\n",
       "      <td>-0.358260</td>\n",
       "      <td>15.646437</td>\n",
       "      <td>-26.197451</td>\n",
       "      <td>-78.724744</td>\n",
       "    </tr>\n",
       "  </tbody>\n",
       "</table>\n",
       "</div>"
      ],
      "text/plain": [
       "         X1         X2         X3         X4         X5         X6         X7  \\\n",
       "0  4.967142  -1.382643        NaN  15.230299  -2.341534  -2.341370  15.792128   \n",
       "1 -5.622875 -10.128311   3.142473  -9.080241 -14.123037  14.656488  -2.257763   \n",
       "2 -6.017066  18.522782  -0.134972 -10.577109   8.225449        NaN   2.088636   \n",
       "3 -7.198442  -4.606388        NaN   3.436183 -17.630402   3.240840  -3.850823   \n",
       "4 -4.791742  -1.856590 -11.063350 -11.962066   8.125258  13.562400  -0.720101   \n",
       "\n",
       "          X8         X9        X10       X11        X12       X13        X14  \\\n",
       "0   7.674347  -4.694744   5.425600 -4.634177  -4.657298  2.419623 -19.132802   \n",
       "1        NaN -14.247482  -5.443827  1.109226 -11.509936  3.756980  -6.006387   \n",
       "2 -19.596701 -13.281860   1.968612  7.384666   1.713683 -1.156483  -3.011037   \n",
       "3  -6.769220   6.116763  10.309995  9.312801        NaN -3.092124   3.312634   \n",
       "4  10.035329   3.616360  -6.451198  3.613956  15.380366 -0.358260  15.646437   \n",
       "\n",
       "         X15           Y  \n",
       "0 -17.249178  152.273643  \n",
       "1  -2.916937  144.947630  \n",
       "2 -14.785220  188.449076  \n",
       "3   9.755451  107.875692  \n",
       "4 -26.197451  -78.724744  "
      ]
     },
     "execution_count": 36,
     "metadata": {},
     "output_type": "execute_result"
    }
   ],
   "source": [
    "df.head()"
   ]
  },
  {
   "cell_type": "code",
   "execution_count": 37,
   "metadata": {},
   "outputs": [
    {
     "name": "stdout",
     "output_type": "stream",
     "text": [
      "X1     205\n",
      "X2     202\n",
      "X3     210\n",
      "X4     222\n",
      "X5     210\n",
      "X6     195\n",
      "X7     185\n",
      "X8     193\n",
      "X9     195\n",
      "X10    195\n",
      "X11    189\n",
      "X12    198\n",
      "X13    211\n",
      "X14    198\n",
      "X15    192\n",
      "Y        0\n",
      "dtype: int64\n"
     ]
    }
   ],
   "source": [
    "print(df.isnull().sum())"
   ]
  },
  {
   "cell_type": "code",
   "execution_count": 38,
   "metadata": {},
   "outputs": [
    {
     "name": "stdout",
     "output_type": "stream",
     "text": [
      "Total de datos: 4000\n",
      "El porcentaje que representan de datos nulos en cada una de las categorías son los siguientes:\n",
      "X1: 5.12%\n",
      "X2: 5.05%\n",
      "X3: 5.25%\n",
      "X4: 5.55%\n",
      "\n"
     ]
    }
   ],
   "source": [
    "total_datos = 4000 \n",
    "print(f\"Total de datos: {total_datos}\")\n",
    "\n",
    "X1 = (205 / total_datos) * 100\n",
    "X2 = (202 / total_datos) * 100\n",
    "X3 = (210 / total_datos) * 100\n",
    "X4 = (222 / total_datos) * 100\n",
    "\n",
    "\n",
    "print(f\"El porcentaje que representan de datos nulos en cada una de las categorías son los siguientes:\\n\"\n",
    "      f\"X1: {X1:.2f}%\\n\"\n",
    "      f\"X2: {X2:.2f}%\\n\"\n",
    "      f\"X3: {X3:.2f}%\\n\"\n",
    "      f\"X4: {X4:.2f}%\\n\"\n",
    ")"
   ]
  },
  {
   "cell_type": "markdown",
   "metadata": {},
   "source": [
    "## Normalización"
   ]
  },
  {
   "cell_type": "code",
   "execution_count": 39,
   "metadata": {},
   "outputs": [
    {
     "name": "stdout",
     "output_type": "stream",
     "text": [
      " X1: Estadístico = 3.165120884485229, p-valor = 0.20544838545904986\n",
      " Los datos siguen una distribución normal.\n",
      "\n",
      " X2: Estadístico = 1.107147111082594, p-valor = 0.5748917277151018\n",
      " Los datos siguen una distribución normal.\n",
      "\n",
      " X3: Estadístico = 0.8312062793277601, p-valor = 0.6599421233743414\n",
      " Los datos siguen una distribución normal.\n",
      "\n",
      " X4: Estadístico = 1.0703099682544395, p-valor = 0.5855785277345695\n",
      " Los datos siguen una distribución normal.\n",
      "\n"
     ]
    }
   ],
   "source": [
    "numerical_cols = np.array([\"X1\", \"X2\", \"X3\", \"X4\"])\n",
    "for col in numerical_cols:  # 'col' ya contiene el nombre de la columna\n",
    "    if col in df.columns:  # Verificar que la columna existe en df o\n",
    "        stat, p_value = stats.normaltest(df[col].dropna())  \n",
    "        print(f\" {col}: Estadístico = {stat}, p-valor = {p_value}\")\n",
    "\n",
    "        if p_value < 0.05:\n",
    "            print(\" Los datos NO siguen una distribución normal.\\n\")\n",
    "        else:\n",
    "            print(\" Los datos siguen una distribución normal.\\n\")\n",
    "    else:\n",
    "        print(f\" La columna '{col}' no existe en el DataFrame.\\n\")"
   ]
  },
  {
   "cell_type": "markdown",
   "metadata": {},
   "source": [
    "Si el porcentaje de valores faltantes es 5%, lo ideal es imputarlos en lugar de eliminarlos para no perder información. En este caso, utilizaremos la imputación con la media, ya que es una estrategia efectiva cuando los datos siguen una distribución aproximadamente normal y no presentan valores atípicos significativos.\n",
    "\n",
    "Para imputar los valores faltantes con la media en un DataFrame de pandas, puedes usar el siguiente código:"
   ]
  },
  {
   "cell_type": "code",
   "execution_count": 8,
   "metadata": {},
   "outputs": [
    {
     "name": "stdout",
     "output_type": "stream",
     "text": [
      "X1     0\n",
      "X2     0\n",
      "X3     0\n",
      "X4     0\n",
      "X5     0\n",
      "X6     0\n",
      "X7     0\n",
      "X8     0\n",
      "X9     0\n",
      "X10    0\n",
      "X11    0\n",
      "X12    0\n",
      "X13    0\n",
      "X14    0\n",
      "X15    0\n",
      "Y      0\n",
      "dtype: int64\n"
     ]
    }
   ],
   "source": [
    "df.fillna(df.mean(), inplace=True)\n",
    "print(df.isnull().sum())\n"
   ]
  },
  {
   "cell_type": "code",
   "execution_count": 40,
   "metadata": {},
   "outputs": [
    {
     "name": "stdout",
     "output_type": "stream",
     "text": [
      "Coeficientes estimados (β):\n",
      "\n",
      "β0 (Intercepto): 4.0499\n",
      "β1 (X1): 1.9369\n",
      "β2 (X2): 1.4484\n",
      "β3 (X3): 0.7547\n",
      "β4 (X4): 1.2067\n"
     ]
    }
   ],
   "source": [
    "import numpy as np\n",
    "import pandas as pd\n",
    "\n",
    "# Simulación de datos con valores faltantes\n",
    "np.random.seed(42)\n",
    "total_datos = 4000\n",
    "n_features = 4  # Ahora hay 4 variables independientes\n",
    "\n",
    "# Variables independientes (X) con valores faltantes\n",
    "X = np.random.rand(total_datos, n_features)\n",
    "X[np.random.choice(total_datos, 205), 0] = np.nan  \n",
    "X[np.random.choice(total_datos, 202), 1] = np.nan  \n",
    "X[np.random.choice(total_datos, 210), 2] = np.nan  \n",
    "X[np.random.choice(total_datos, 222), 3] = np.nan  \n",
    "\n",
    "y = 3.5 + 2.3 * X[:, 0] + 1.7 * X[:, 1] + 0.9 * X[:, 2] + 1.5 * X[:, 3] + np.random.randn(total_datos)\n",
    "\n",
    "df = pd.DataFrame(X, columns=[\"X1\", \"X2\", \"X3\", \"X4\"])\n",
    "df[\"y\"] = y\n",
    "\n",
    "df.fillna(df.mean(), inplace=True)\n",
    "\n",
    "X = df[[\"X1\", \"X2\", \"X3\", \"X4\"]].values\n",
    "y = df[\"y\"].values\n",
    "\n",
    "# Agregar columna de unos para el término independiente (β0)\n",
    "X_b = np.c_[np.ones((X.shape[0], 1)), X]  # Añade una columna de unos a X\n",
    "\n",
    "# 3️⃣ Cálculo de los coeficientes usando la fórmula OLS: β = (XᵀX)⁻¹ Xᵀy\n",
    "XT_X = X_b.T @ X_b  # Multiplicación de la transpuesta de X por X\n",
    "XT_X_inv = np.linalg.inv(XT_X)  # Inversa de (XᵀX)\n",
    "XT_y = X_b.T @ y  # Multiplicación de la transpuesta de X por y\n",
    "beta = XT_X_inv @ XT_y  # Cálculo final de los coeficientes\n",
    "\n",
    "print(f\"Coeficientes estimados (β):\\n\")\n",
    "print(f\"β0 (Intercepto): {beta[0]:.4f}\")\n",
    "print(f\"β1 (X1): {beta[1]:.4f}\")\n",
    "print(f\"β2 (X2): {beta[2]:.4f}\")\n",
    "print(f\"β3 (X3): {beta[3]:.4f}\")\n",
    "print(f\"β4 (X4): {beta[4]:.4f}\")\n"
   ]
  },
  {
   "cell_type": "markdown",
   "metadata": {},
   "source": [
    "## Numpy"
   ]
  }
 ],
 "metadata": {
  "language_info": {
   "name": "python"
  }
 },
 "nbformat": 4,
 "nbformat_minor": 2
}

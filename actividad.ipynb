{
 "cells": [
  {
   "cell_type": "code",
   "execution_count": 113,
   "metadata": {},
   "outputs": [],
   "source": [
    "import pandas as pd\n",
    "import seaborn as sns\n",
    "import matplotlib.pyplot as plt\n",
    "from scipy import stats\n",
    "import numpy as np\n",
    "\n",
    "df = pd.read_csv(\"synthetic_dataset.csv\")"
   ]
  },
  {
   "cell_type": "markdown",
   "metadata": {},
   "source": [
    "## Estimación de Parámetros con OLS"
   ]
  },
  {
   "cell_type": "code",
   "execution_count": 114,
   "metadata": {},
   "outputs": [
    {
     "data": {
      "text/html": [
       "<div>\n",
       "<style scoped>\n",
       "    .dataframe tbody tr th:only-of-type {\n",
       "        vertical-align: middle;\n",
       "    }\n",
       "\n",
       "    .dataframe tbody tr th {\n",
       "        vertical-align: top;\n",
       "    }\n",
       "\n",
       "    .dataframe thead th {\n",
       "        text-align: right;\n",
       "    }\n",
       "</style>\n",
       "<table border=\"1\" class=\"dataframe\">\n",
       "  <thead>\n",
       "    <tr style=\"text-align: right;\">\n",
       "      <th></th>\n",
       "      <th>X1</th>\n",
       "      <th>X2</th>\n",
       "      <th>X3</th>\n",
       "      <th>X4</th>\n",
       "      <th>X5</th>\n",
       "      <th>X6</th>\n",
       "      <th>X7</th>\n",
       "      <th>X8</th>\n",
       "      <th>X9</th>\n",
       "      <th>X10</th>\n",
       "      <th>X11</th>\n",
       "      <th>X12</th>\n",
       "      <th>X13</th>\n",
       "      <th>X14</th>\n",
       "      <th>X15</th>\n",
       "      <th>Y</th>\n",
       "    </tr>\n",
       "  </thead>\n",
       "  <tbody>\n",
       "    <tr>\n",
       "      <th>0</th>\n",
       "      <td>4.967142</td>\n",
       "      <td>-1.382643</td>\n",
       "      <td>NaN</td>\n",
       "      <td>15.230299</td>\n",
       "      <td>-2.341534</td>\n",
       "      <td>-2.341370</td>\n",
       "      <td>15.792128</td>\n",
       "      <td>7.674347</td>\n",
       "      <td>-4.694744</td>\n",
       "      <td>5.425600</td>\n",
       "      <td>-4.634177</td>\n",
       "      <td>-4.657298</td>\n",
       "      <td>2.419623</td>\n",
       "      <td>-19.132802</td>\n",
       "      <td>-17.249178</td>\n",
       "      <td>152.273643</td>\n",
       "    </tr>\n",
       "    <tr>\n",
       "      <th>1</th>\n",
       "      <td>-5.622875</td>\n",
       "      <td>-10.128311</td>\n",
       "      <td>3.142473</td>\n",
       "      <td>-9.080241</td>\n",
       "      <td>-14.123037</td>\n",
       "      <td>14.656488</td>\n",
       "      <td>-2.257763</td>\n",
       "      <td>NaN</td>\n",
       "      <td>-14.247482</td>\n",
       "      <td>-5.443827</td>\n",
       "      <td>1.109226</td>\n",
       "      <td>-11.509936</td>\n",
       "      <td>3.756980</td>\n",
       "      <td>-6.006387</td>\n",
       "      <td>-2.916937</td>\n",
       "      <td>144.947630</td>\n",
       "    </tr>\n",
       "    <tr>\n",
       "      <th>2</th>\n",
       "      <td>-6.017066</td>\n",
       "      <td>18.522782</td>\n",
       "      <td>-0.134972</td>\n",
       "      <td>-10.577109</td>\n",
       "      <td>8.225449</td>\n",
       "      <td>NaN</td>\n",
       "      <td>2.088636</td>\n",
       "      <td>-19.596701</td>\n",
       "      <td>-13.281860</td>\n",
       "      <td>1.968612</td>\n",
       "      <td>7.384666</td>\n",
       "      <td>1.713683</td>\n",
       "      <td>-1.156483</td>\n",
       "      <td>-3.011037</td>\n",
       "      <td>-14.785220</td>\n",
       "      <td>188.449076</td>\n",
       "    </tr>\n",
       "    <tr>\n",
       "      <th>3</th>\n",
       "      <td>-7.198442</td>\n",
       "      <td>-4.606388</td>\n",
       "      <td>NaN</td>\n",
       "      <td>3.436183</td>\n",
       "      <td>-17.630402</td>\n",
       "      <td>3.240840</td>\n",
       "      <td>-3.850823</td>\n",
       "      <td>-6.769220</td>\n",
       "      <td>6.116763</td>\n",
       "      <td>10.309995</td>\n",
       "      <td>9.312801</td>\n",
       "      <td>NaN</td>\n",
       "      <td>-3.092124</td>\n",
       "      <td>3.312634</td>\n",
       "      <td>9.755451</td>\n",
       "      <td>107.875692</td>\n",
       "    </tr>\n",
       "    <tr>\n",
       "      <th>4</th>\n",
       "      <td>-4.791742</td>\n",
       "      <td>-1.856590</td>\n",
       "      <td>-11.063350</td>\n",
       "      <td>-11.962066</td>\n",
       "      <td>8.125258</td>\n",
       "      <td>13.562400</td>\n",
       "      <td>-0.720101</td>\n",
       "      <td>10.035329</td>\n",
       "      <td>3.616360</td>\n",
       "      <td>-6.451198</td>\n",
       "      <td>3.613956</td>\n",
       "      <td>15.380366</td>\n",
       "      <td>-0.358260</td>\n",
       "      <td>15.646437</td>\n",
       "      <td>-26.197451</td>\n",
       "      <td>-78.724744</td>\n",
       "    </tr>\n",
       "  </tbody>\n",
       "</table>\n",
       "</div>"
      ],
      "text/plain": [
       "         X1         X2         X3         X4         X5         X6         X7  \\\n",
       "0  4.967142  -1.382643        NaN  15.230299  -2.341534  -2.341370  15.792128   \n",
       "1 -5.622875 -10.128311   3.142473  -9.080241 -14.123037  14.656488  -2.257763   \n",
       "2 -6.017066  18.522782  -0.134972 -10.577109   8.225449        NaN   2.088636   \n",
       "3 -7.198442  -4.606388        NaN   3.436183 -17.630402   3.240840  -3.850823   \n",
       "4 -4.791742  -1.856590 -11.063350 -11.962066   8.125258  13.562400  -0.720101   \n",
       "\n",
       "          X8         X9        X10       X11        X12       X13        X14  \\\n",
       "0   7.674347  -4.694744   5.425600 -4.634177  -4.657298  2.419623 -19.132802   \n",
       "1        NaN -14.247482  -5.443827  1.109226 -11.509936  3.756980  -6.006387   \n",
       "2 -19.596701 -13.281860   1.968612  7.384666   1.713683 -1.156483  -3.011037   \n",
       "3  -6.769220   6.116763  10.309995  9.312801        NaN -3.092124   3.312634   \n",
       "4  10.035329   3.616360  -6.451198  3.613956  15.380366 -0.358260  15.646437   \n",
       "\n",
       "         X15           Y  \n",
       "0 -17.249178  152.273643  \n",
       "1  -2.916937  144.947630  \n",
       "2 -14.785220  188.449076  \n",
       "3   9.755451  107.875692  \n",
       "4 -26.197451  -78.724744  "
      ]
     },
     "execution_count": 114,
     "metadata": {},
     "output_type": "execute_result"
    }
   ],
   "source": [
    "df.head()"
   ]
  },
  {
   "cell_type": "markdown",
   "metadata": {},
   "source": [
    "Cuantificar los valores faltantes de cada variable"
   ]
  },
  {
   "cell_type": "code",
   "execution_count": 115,
   "metadata": {},
   "outputs": [
    {
     "name": "stdout",
     "output_type": "stream",
     "text": [
      "X1     205\n",
      "X2     202\n",
      "X3     210\n",
      "X4     222\n",
      "X5     210\n",
      "X6     195\n",
      "X7     185\n",
      "X8     193\n",
      "X9     195\n",
      "X10    195\n",
      "X11    189\n",
      "X12    198\n",
      "X13    211\n",
      "X14    198\n",
      "X15    192\n",
      "Y        0\n",
      "dtype: int64\n"
     ]
    }
   ],
   "source": [
    "print(df.isnull().sum())"
   ]
  },
  {
   "cell_type": "markdown",
   "metadata": {},
   "source": [
    "Calcular el porcentaje que representan los datos faltantes "
   ]
  },
  {
   "cell_type": "code",
   "execution_count": 116,
   "metadata": {},
   "outputs": [
    {
     "name": "stdout",
     "output_type": "stream",
     "text": [
      "Total de datos: 4000\n",
      "El porcentaje que representan de datos nulos en cada una de las categorías son los siguientes:\n",
      "X1: 5.12%\n",
      "X2: 5.05%\n",
      "X3: 5.25%\n",
      "X4: 5.55%\n",
      "X5: 5.25%\n",
      "\n"
     ]
    }
   ],
   "source": [
    "total_datos = 4000 \n",
    "print(f\"Total de datos: {total_datos}\")\n",
    "\n",
    "X1 = (205 / total_datos) * 100\n",
    "X2 = (202 / total_datos) * 100\n",
    "X3 = (210 / total_datos) * 100\n",
    "X4 = (222 / total_datos) * 100\n",
    "X5 = (210 / total_datos) * 100\n",
    "\n",
    "print(f\"El porcentaje que representan de datos nulos en cada una de las categorías son los siguientes:\\n\"\n",
    "      f\"X1: {X1:.2f}%\\n\"\n",
    "      f\"X2: {X2:.2f}%\\n\"\n",
    "      f\"X3: {X3:.2f}%\\n\"\n",
    "      f\"X4: {X4:.2f}%\\n\"\n",
    "      f\"X5: {X5:.2f}%\\n\"\n",
    ")"
   ]
  },
  {
   "cell_type": "markdown",
   "metadata": {},
   "source": [
    "El porcentaje de valores faltantes en los datos es del 5%, lo que se considera significativo para este estudio. Generalmente, cuando la cantidad de datos ausentes supera este umbral, su eliminación podría afectar la validez del análisis al introducir sesgos o reducir la representatividad de la muestra. Por esta razón, en lugar de eliminarlos, es recomendable aplicar estrategias de imputación adecuadas para preservar la integridad de los resultados."
   ]
  },
  {
   "cell_type": "markdown",
   "metadata": {},
   "source": [
    "Sin embargo, antes de realizar la imputación, es fundamental verificar si las variables siguen una distribución normal. Esto permitirá determinar el método de imputación más adecuado: si la distribución es normal, se puede imputar con la media, mientras que, si la distribución es asimétrica, es preferible utilizar la mediana para evitar distorsiones en los datos."
   ]
  },
  {
   "cell_type": "markdown",
   "metadata": {},
   "source": [
    "## Normalización"
   ]
  },
  {
   "cell_type": "code",
   "execution_count": 117,
   "metadata": {},
   "outputs": [
    {
     "name": "stdout",
     "output_type": "stream",
     "text": [
      " X1: Estadístico = 3.165120884485229, p-valor = 0.20544838545904986\n",
      " Los datos siguen una distribución normal.\n",
      "\n",
      " X2: Estadístico = 1.107147111082594, p-valor = 0.5748917277151018\n",
      " Los datos siguen una distribución normal.\n",
      "\n",
      " X3: Estadístico = 0.8312062793277601, p-valor = 0.6599421233743414\n",
      " Los datos siguen una distribución normal.\n",
      "\n",
      " X4: Estadístico = 1.0703099682544395, p-valor = 0.5855785277345695\n",
      " Los datos siguen una distribución normal.\n",
      "\n",
      " X5: Estadístico = 3.4799554217609905, p-valor = 0.17552431285578177\n",
      " Los datos siguen una distribución normal.\n",
      "\n"
     ]
    }
   ],
   "source": [
    "numerical_cols = np.array([\"X1\", \"X2\", \"X3\", \"X4\", \"X5\"])\n",
    "for col in numerical_cols:  \n",
    "    if col in df.columns:  \n",
    "        stat, p_value = stats.normaltest(df[col].dropna())  \n",
    "        print(f\" {col}: Estadístico = {stat}, p-valor = {p_value}\")\n",
    "\n",
    "        if p_value < 0.05:\n",
    "            print(\" Los datos NO siguen una distribución normal.\\n\")\n",
    "        else:\n",
    "            print(\" Los datos siguen una distribución normal.\\n\")\n",
    "    else:\n",
    "        print(f\" La columna '{col}' no existe en el DataFrame.\\n\")"
   ]
  },
  {
   "cell_type": "markdown",
   "metadata": {},
   "source": [
    "En este caso, aplicaremos la imputación con la media, ya que es una estrategia eficaz cuando los datos siguen una distribución aproximadamente normal y no presentan valores atípicos significativos. Este método permite mantener la tendencia central de los datos sin sesgar los resultados."
   ]
  },
  {
   "cell_type": "code",
   "execution_count": 118,
   "metadata": {},
   "outputs": [
    {
     "name": "stdout",
     "output_type": "stream",
     "text": [
      "X1     0\n",
      "X2     0\n",
      "X3     0\n",
      "X4     0\n",
      "X5     0\n",
      "X6     0\n",
      "X7     0\n",
      "X8     0\n",
      "X9     0\n",
      "X10    0\n",
      "X11    0\n",
      "X12    0\n",
      "X13    0\n",
      "X14    0\n",
      "X15    0\n",
      "Y      0\n",
      "dtype: int64\n"
     ]
    }
   ],
   "source": [
    "df.fillna(df.mean(), inplace=True)\n",
    "print(df.isnull().sum())"
   ]
  },
  {
   "cell_type": "markdown",
   "metadata": {},
   "source": [
    "# Correlación entre variables"
   ]
  },
  {
   "cell_type": "markdown",
   "metadata": {},
   "source": [
    "Verificamos la correlación entre las variables para determinar si es posible calcular la inversa de la matriz. Para que esto sea viable, el determinante debe ser distinto de cero, lo que implica que las columnas de la matriz no pueden ser linealmente dependientes o idénticas. Si existe una alta correlación entre variables, es posible que la matriz sea singular, impidiendo su inversión."
   ]
  },
  {
   "cell_type": "code",
   "execution_count": 119,
   "metadata": {},
   "outputs": [
    {
     "data": {
      "text/plain": [
       "Text(0.5, 1.0, 'Matriz de Correlación')"
      ]
     },
     "execution_count": 119,
     "metadata": {},
     "output_type": "execute_result"
    },
    {
     "data": {
      "image/png": "[encoded data removed]",
      "text/plain": [
       "<Figure size 1000x800 with 2 Axes>"
      ]
     },
     "metadata": {},
     "output_type": "display_data"
    }
   ],
   "source": [
    "columnas = ['X1', 'X2', 'X3',  'X4','X5' ]\n",
    "\n",
    "corr_mat = df[columnas].corr()\n",
    "\n",
    "plt.figure(figsize=(10, 8))\n",
    "sns.heatmap(corr_mat, cmap=sns.diverging_palette(220, 10, as_cmap=True), annot=True, fmt=\".2f\")\n",
    "plt.title(\"Matriz de Correlación\", fontsize=14, fontweight=\"bold\")"
   ]
  },
  {
   "cell_type": "markdown",
   "metadata": {},
   "source": [
    "A partir del gráfico anterior, se puede afirmar que las variables no presentan una correlación significativa. Por lo tanto, la matriz no es singular, lo que permite calcular su inversa sin inconvenientes."
   ]
  },
  {
   "cell_type": "markdown",
   "metadata": {},
   "source": [
    "## Numpy: Cálculo de los coeficientes usando la fórmula OLS: β = (XᵀX)⁻¹ Xᵀy"
   ]
  },
  {
   "cell_type": "markdown",
   "metadata": {},
   "source": [
    "Agregar columna de unos para el término independiente (β0)"
   ]
  },
  {
   "cell_type": "code",
   "execution_count": 120,
   "metadata": {},
   "outputs": [
    {
     "name": "stdout",
     "output_type": "stream",
     "text": [
      "[[  1.           4.96714153  -1.38264301   0.17416585  15.23029856\n",
      "   -2.34153375]\n",
      " [  1.          -5.62287529 -10.1283112    3.14247333  -9.08024076\n",
      "  -14.12303701]\n",
      " [  1.          -6.01706612  18.52278185  -0.13497225 -10.57710929\n",
      "    8.22544912]\n",
      " ...\n",
      " [  1.           7.87651287   2.53753554   3.77975684   0.2359561\n",
      "   -1.33503315]\n",
      " [  1.          19.51254434   3.24704153  19.37021313  -1.25082575\n",
      "    5.89664406]\n",
      " [  1.           7.64050782  -4.95093801  -2.73401072  -2.59206311\n",
      "    2.74768867]]\n"
     ]
    }
   ],
   "source": [
    "import numpy as np\n",
    "\n",
    "X = df[[\"X1\", \"X2\", \"X3\", \"X4\", \"X5\"]].values\n",
    "y = df[\"Y\"].values\n",
    "\n",
    "\n",
    "X_b = np.c_[np.ones((X.shape[0], 1)), X]  # Añade una columna de unos a X\n",
    "print(X_b)\n"
   ]
  },
  {
   "cell_type": "markdown",
   "metadata": {},
   "source": [
    "Multiplicación de la transpuesta de X por X"
   ]
  },
  {
   "cell_type": "code",
   "execution_count": 121,
   "metadata": {},
   "outputs": [
    {
     "name": "stdout",
     "output_type": "stream",
     "text": [
      "[[ 4.00000000e+03 -5.98878053e+02 -5.56921563e+02  6.96663386e+02\n",
      "   1.99398603e+02  2.12449246e+02]\n",
      " [-5.98878053e+02  3.96423585e+05 -2.71507934e+02  6.49439923e+03\n",
      "   1.08638741e+04  1.48834052e+04]\n",
      " [-5.56921563e+02 -2.71507934e+02  3.79807773e+05 -1.71674571e+02\n",
      "  -8.70140047e+03  6.77466785e+03]\n",
      " [ 6.96663386e+02  6.49439923e+03 -1.71674571e+02  3.77447396e+05\n",
      "   3.21250277e+03  4.89694301e+03]\n",
      " [ 1.99398603e+02  1.08638741e+04 -8.70140047e+03  3.21250277e+03\n",
      "   3.75720356e+05 -3.55752193e+03]\n",
      " [ 2.12449246e+02  1.48834052e+04  6.77466785e+03  4.89694301e+03\n",
      "  -3.55752193e+03  3.61252658e+05]]\n"
     ]
    }
   ],
   "source": [
    "\n",
    "XT_X = X_b.T @ X_b  \n",
    "print(XT_X)"
   ]
  },
  {
   "cell_type": "markdown",
   "metadata": {},
   "source": [
    "Inversa de (XᵀX)"
   ]
  },
  {
   "cell_type": "code",
   "execution_count": 122,
   "metadata": {},
   "outputs": [
    {
     "name": "stdout",
     "output_type": "stream",
     "text": [
      "[[ 2.50206769e-04  3.95720922e-07  3.66851709e-07 -4.65174637e-07\n",
      "  -1.33321564e-07 -1.65334627e-07]\n",
      " [ 3.95720922e-07  2.52980176e-06  2.54273417e-09 -4.22701788e-08\n",
      "  -7.39293784e-08 -1.04661852e-07]\n",
      " [ 3.66851709e-07  2.54273417e-09  2.63570930e-06  6.02537055e-10\n",
      "   6.03021741e-08 -4.91629911e-08]\n",
      " [-4.65174637e-07 -4.22701788e-08  6.02537055e-10  2.65158814e-06\n",
      "  -2.15120448e-08 -3.41515476e-08]\n",
      " [-1.33321564e-07 -7.39293784e-08  6.03021741e-08 -2.15120448e-08\n",
      "   2.66561303e-06  2.85352581e-08]\n",
      " [-1.65334627e-07 -1.04661852e-07 -4.91629911e-08 -3.41515476e-08\n",
      "   2.85352581e-08  2.77422088e-06]]\n"
     ]
    }
   ],
   "source": [
    "XT_X_inv = np.linalg.inv(XT_X)  \n",
    "print(XT_X_inv)"
   ]
  },
  {
   "cell_type": "markdown",
   "metadata": {},
   "source": [
    "Multiplicación de la transpuesta de X por y"
   ]
  },
  {
   "cell_type": "code",
   "execution_count": 123,
   "metadata": {},
   "outputs": [
    {
     "name": "stdout",
     "output_type": "stream",
     "text": [
      "[   -1952.94796079 -1198110.37318335  1709672.3711654   1801453.88435047\n",
      "   160186.07986866 -1179743.59322193]\n"
     ]
    }
   ],
   "source": [
    "XT_y = X_b.T @ y  \n",
    "print(XT_y)"
   ]
  },
  {
   "cell_type": "markdown",
   "metadata": {},
   "source": [
    "Cálculo final de los coeficientes"
   ]
  },
  {
   "cell_type": "code",
   "execution_count": 124,
   "metadata": {},
   "outputs": [
    {
     "name": "stdout",
     "output_type": "stream",
     "text": [
      "Coeficientes estimados (β):\n",
      "\n",
      "β0 (Intercepto): -0.9999\n",
      "β1 (X1): -2.9919\n",
      "β2 (X2): 4.5712\n",
      "β3 (X3): 4.8661\n",
      "β4 (X4): 0.5465\n",
      "β5 (X5): -3.2882\n"
     ]
    }
   ],
   "source": [
    "beta = XT_X_inv @ XT_y  \n",
    "\n",
    "print(f\"Coeficientes estimados (β):\\n\")\n",
    "print(f\"β0 (Intercepto): {beta[0]:.4f}\")\n",
    "print(f\"β1 (X1): {beta[1]:.4f}\")\n",
    "print(f\"β2 (X2): {beta[2]:.4f}\")\n",
    "print(f\"β3 (X3): {beta[3]:.4f}\")\n",
    "print(f\"β4 (X4): {beta[4]:.4f}\")\n",
    "print(f\"β5 (X5): {beta[5]:.4f}\")"
   ]
  },
  {
   "cell_type": "markdown",
   "metadata": {},
   "source": [
    "Comprobar modelo obtenido por medio de la libreria (statsmodel)"
   ]
  },
  {
   "cell_type": "code",
   "execution_count": 125,
   "metadata": {},
   "outputs": [
    {
     "name": "stdout",
     "output_type": "stream",
     "text": [
      "                            OLS Regression Results                            \n",
      "==============================================================================\n",
      "Dep. Variable:                      y   R-squared:                       0.401\n",
      "Model:                            OLS   Adj. R-squared:                  0.401\n",
      "Method:                 Least Squares   F-statistic:                     535.3\n",
      "Date:                Thu, 27 Feb 2025   Prob (F-statistic):               0.00\n",
      "Time:                        23:53:43   Log-Likelihood:                -23886.\n",
      "No. Observations:                4000   AIC:                         4.778e+04\n",
      "Df Residuals:                    3994   BIC:                         4.782e+04\n",
      "Df Model:                           5                                         \n",
      "Covariance Type:            nonrobust                                         \n",
      "==============================================================================\n",
      "                 coef    std err          t      P>|t|      [0.025      0.975]\n",
      "------------------------------------------------------------------------------\n",
      "const         -0.9999      1.502     -0.666      0.506      -3.945       1.945\n",
      "x1            -2.9919      0.151    -19.810      0.000      -3.288      -2.696\n",
      "x2             4.5712      0.154     29.653      0.000       4.269       4.873\n",
      "x3             4.8661      0.155     31.472      0.000       4.563       5.169\n",
      "x4             0.5465      0.155      3.525      0.000       0.243       0.850\n",
      "x5            -3.2882      0.158    -20.791      0.000      -3.598      -2.978\n",
      "==============================================================================\n",
      "Omnibus:                        0.069   Durbin-Watson:                   1.972\n",
      "Prob(Omnibus):                  0.966   Jarque-Bera (JB):                0.043\n",
      "Skew:                          -0.001   Prob(JB):                        0.979\n",
      "Kurtosis:                       3.016   Cond. No.                         10.1\n",
      "==============================================================================\n",
      "\n",
      "Notes:\n",
      "[1] Standard Errors assume that the covariance matrix of the errors is correctly specified.\n"
     ]
    }
   ],
   "source": [
    "import statsmodels.api as sm\n",
    "import pandas as pd\n",
    "\n",
    "# Suponiendo que tienes un DataFrame llamado df con variables \"X\" y \"y\"\n",
    "X = df[[\"X1\", \"X2\", \"X3\", \"X4\", \"X5\"]].values  # Variable independiente (predictor)\n",
    "y = df['Y'].values  # Variable dependiente (objetivo)\n",
    "\n",
    "# Agregar una constante para el término de intercepto\n",
    "X = sm.add_constant(X)\n",
    "\n",
    "# Ajustar el modelo de regresión\n",
    "modelo = sm.OLS(y, X).fit()\n",
    "\n",
    "# Mostrar el resumen del modelo\n",
    "print(modelo.summary())"
   ]
  },
  {
   "cell_type": "markdown",
   "metadata": {},
   "source": [
    "##  Estimación de Parámetros con Gradient Descent "
   ]
  },
  {
   "cell_type": "markdown",
   "metadata": {},
   "source": [
    "1. Definir las variables y preparar los datos"
   ]
  },
  {
   "cell_type": "code",
   "execution_count": 126,
   "metadata": {},
   "outputs": [],
   "source": [
    "X = df[[\"X1\", \"X2\", \"X3\", \"X4\", \"X5\"]].values  # Variables independientes\n",
    "y = df['Y'].values  # Variable dependiente\n"
   ]
  },
  {
   "cell_type": "markdown",
   "metadata": {},
   "source": [
    "2. Agregar la columna de unos para el bias (intercepto)"
   ]
  },
  {
   "cell_type": "code",
   "execution_count": 142,
   "metadata": {},
   "outputs": [
    {
     "name": "stdout",
     "output_type": "stream",
     "text": [
      "[[  1.           1.           4.96714153 ...   0.17416585  15.23029856\n",
      "   -2.34153375]\n",
      " [  1.           1.          -5.62287529 ...   3.14247333  -9.08024076\n",
      "  -14.12303701]\n",
      " [  1.           1.          -6.01706612 ...  -0.13497225 -10.57710929\n",
      "    8.22544912]\n",
      " ...\n",
      " [  1.           1.           7.87651287 ...   3.77975684   0.2359561\n",
      "   -1.33503315]\n",
      " [  1.           1.          19.51254434 ...  19.37021313  -1.25082575\n",
      "    5.89664406]\n",
      " [  1.           1.           7.64050782 ...  -2.73401072  -2.59206311\n",
      "    2.74768867]]\n"
     ]
    }
   ],
   "source": [
    "X = np.c_[np.ones(X.shape[0]), X]  # Agregar columna de 1s\n",
    "print(X)\n"
   ]
  },
  {
   "cell_type": "markdown",
   "metadata": {},
   "source": [
    "3. Inicializar los coeficientes (θ)"
   ]
  },
  {
   "cell_type": "code",
   "execution_count": 141,
   "metadata": {},
   "outputs": [
    {
     "name": "stdout",
     "output_type": "stream",
     "text": [
      "Parámetros iniciales: [0. 0. 0. 0. 0. 0.]\n"
     ]
    }
   ],
   "source": [
    "theta = np.zeros(X.shape[1])  \n",
    "print(f\"Parámetros iniciales: {theta}\")\n"
   ]
  },
  {
   "cell_type": "markdown",
   "metadata": {},
   "source": [
    "4. Definir los hiperparámetros"
   ]
  },
  {
   "cell_type": "markdown",
   "metadata": {},
   "source": [
    " Configurar una tasa de aprendizaje (alpha) y número de iteraciones adecuado."
   ]
  },
  {
   "cell_type": "markdown",
   "metadata": {},
   "source": [
    "Se probarán diferentes valores de la tasa de aprendizaje hasta encontrar aquel que permita una convergencia rápida y estable. El objetivo es ajustar \n",
    "𝛼\n",
    "α de manera que la curva de la función de costo descienda de forma acelerada, pero sin oscilaciones ni comportamientos erráticos. Si la curva baja muy lentamente, se incrementará \n",
    "𝛼\n",
    "α; en cambio, si presenta fluctuaciones o aumenta, se reducirá hasta lograr un descenso óptimo."
   ]
  },
  {
   "cell_type": "code",
   "execution_count": 130,
   "metadata": {},
   "outputs": [],
   "source": [
    "alpha = 0.01  # Tasa de aprendizaje\n",
    "epochs = 1000  # Número de iteraciones\n"
   ]
  },
  {
   "cell_type": "markdown",
   "metadata": {},
   "source": [
    "5. Aplicar el Algoritmo de Gradient Descent\n",
    "\n"
   ]
  },
  {
   "cell_type": "code",
   "execution_count": 131,
   "metadata": {},
   "outputs": [],
   "source": [
    "m = len(y)  # Número de observaciones\n",
    "\n",
    "for i in range(epochs):\n",
    "    y_pred = X.dot(theta)  # Predicción del modelo\n",
    "    error = y_pred - y  # Diferencia entre predicción y valores reales\n",
    "    gradient = (1/m) * X.T.dot(error)  # Cálculo del gradiente\n",
    "    theta -= alpha * gradient  # Actualización de coeficientes\n"
   ]
  },
  {
   "cell_type": "markdown",
   "metadata": {},
   "source": [
    "6. Mostrar los coeficientes finales"
   ]
  },
  {
   "cell_type": "code",
   "execution_count": 132,
   "metadata": {},
   "outputs": [
    {
     "name": "stdout",
     "output_type": "stream",
     "text": [
      "Parámetros estimados: [-0.9998126  -2.99192333  4.57118124  4.86614076  0.54650972 -3.28815409]\n"
     ]
    }
   ],
   "source": [
    "print(f\"Parámetros estimados: {theta}\")\n"
   ]
  },
  {
   "cell_type": "markdown",
   "metadata": {},
   "source": [
    "### Evaluar la convergencia de los coeficientes."
   ]
  },
  {
   "cell_type": "markdown",
   "metadata": {},
   "source": [
    "Si los coeficientes (𝜃) dejan de cambiar significativamente entre iteraciones, significa que el algoritmo ha convergido. Puedes medir esto observando la diferencia absoluta entre iteraciones sucesivas:\n"
   ]
  },
  {
   "cell_type": "code",
   "execution_count": 133,
   "metadata": {},
   "outputs": [
    {
     "name": "stdout",
     "output_type": "stream",
     "text": [
      "Convergencia alcanzada en la iteración 1\n"
     ]
    }
   ],
   "source": [
    "import numpy as np\n",
    "\n",
    "# Definir un umbral de convergencia (por ejemplo, 1e-6)\n",
    "tolerance = 1e-6  \n",
    "\n",
    "# Almacenar valores previos de theta\n",
    "theta_old = np.zeros(theta.shape)  \n",
    "\n",
    "for i in range(epochs):\n",
    "    y_pred = X.dot(theta)\n",
    "    error = y_pred - y\n",
    "    gradient = (1/m) * X.T.dot(error)\n",
    "    theta -= alpha * gradient  # Actualización de coeficientes\n",
    "\n",
    "    # Comprobar si los coeficientes han convergido\n",
    "    if np.linalg.norm(theta - theta_old, ord=2) < tolerance:\n",
    "        print(f\"Convergencia alcanzada en la iteración {i}\")\n",
    "        break\n",
    "    \n",
    "    theta_old = theta.copy()  # Actualizar theta_old para la siguiente iteración\n"
   ]
  },
  {
   "cell_type": "markdown",
   "metadata": {},
   "source": [
    "La función de costo (MSE) debe disminuir con cada iteración hasta estabilizarse. Si deja de cambiar significativamente, el modelo ha convergido."
   ]
  },
  {
   "cell_type": "code",
   "execution_count": 134,
   "metadata": {},
   "outputs": [
    {
     "data": {
      "image/png": "[encoded data removed]",
      "text/plain": [
       "<Figure size 640x480 with 1 Axes>"
      ]
     },
     "metadata": {},
     "output_type": "display_data"
    }
   ],
   "source": [
    "import matplotlib.pyplot as plt\n",
    "\n",
    "cost_history = []\n",
    "\n",
    "for i in range(epochs):\n",
    "    y_pred = X.dot(theta)\n",
    "    error = y_pred - y\n",
    "    cost = (1/(2*m)) * np.sum(error**2)  # MSE\n",
    "    cost_history.append(cost)\n",
    "    gradient = (1/m) * X.T.dot(error)\n",
    "    theta -= alpha * gradient\n",
    "\n",
    "# Graficar la función de costo\n",
    "plt.plot(range(len(cost_history)), cost_history)\n",
    "plt.xlabel(\"Iteraciones\")\n",
    "plt.ylabel(\"Costo (MSE)\")\n",
    "plt.title(\"Convergencia de la función de costo\")\n",
    "plt.show()\n"
   ]
  },
  {
   "cell_type": "markdown",
   "metadata": {},
   "source": [
    "El gráfico de convergencia muestra una tendencia descendente, lo que indica que la función de costo disminuye con cada iteración. Esto confirma que el algoritmo de Gradient Descent está optimizando los coeficientes de manera efectiva y acercándose a una solución óptima.\n",
    "\n",
    "Dado que la curva se estabiliza después de varias iteraciones, se puede concluir que el modelo ha convergido adecuadamente, logrando minimizar el error en las predicciones. Esto valida el uso de la tasa de aprendizaje seleccionada y el número de iteraciones establecidas. En caso de requerir una convergencia más rápida, podrían explorarse ajustes en estos hiperparámetros."
   ]
  },
  {
   "cell_type": "code",
   "execution_count": 135,
   "metadata": {},
   "outputs": [
    {
     "name": "stdout",
     "output_type": "stream",
     "text": [
      "Coeficientes OLS: [-0.99985636 -2.9919234   4.57118118  4.86614084  0.54650974 -3.28815406]\n",
      "Coeficientes Gradient Descent: [-0.99985636 -2.9919234   4.57118118  4.86614084  0.54650974 -3.28815406]\n"
     ]
    }
   ],
   "source": [
    "import statsmodels.api as sm\n",
    "\n",
    "modelo_ols = sm.OLS(y, X).fit()\n",
    "print(\"Coeficientes OLS:\", modelo_ols.params)\n",
    "print(\"Coeficientes Gradient Descent:\", theta)\n"
   ]
  },
  {
   "cell_type": "markdown",
   "metadata": {},
   "source": [
    "Ambos son similares, significa que el descenso de gradiente ha convergido correctamente."
   ]
  },
  {
   "cell_type": "markdown",
   "metadata": {},
   "source": [
    "Utilizando tanto el método de *Mínimos Cuadrados Ordinarios (OLS)* como el *Descenso de Gradiente (Gradient Descent)*, es posible obtener los mismos coeficientes para el modelo de regresión. Mientras que OLS encuentra la solución de manera directa resolviendo ecuaciones matriciales, Gradient Descent optimiza los coeficientes iterativamente minimizando el error. Ambos enfoques, aunque diferentes en su procedimiento, pueden conducir a los mismos valores óptimos para los parámetros del modelo."
   ]
  }
 ],
 "metadata": {
  "language_info": {
   "name": "python"
  }
 },
 "nbformat": 4,
 "nbformat_minor": 2
}

{
 "cells": [
  {
   "cell_type": "code",
   "execution_count": 14,
   "metadata": {},
   "outputs": [],
   "source": [
    "import pandas as pd\n",
    "import seaborn as sns\n",
    "import matplotlib.pyplot as plt\n",
    "from scipy import stats\n",
    "import numpy as np\n",
    "\n",
    "df = pd.read_csv(\"synthetic_dataset.csv\")"
   ]
  },
  {
   "cell_type": "markdown",
   "metadata": {},
   "source": [
    "## Estimación de Parámetros con OLS"
   ]
  },
  {
   "cell_type": "code",
   "execution_count": 15,
   "metadata": {},
   "outputs": [
    {
     "data": {
      "text/html": [
       "<div>\n",
       "<style scoped>\n",
       "    .dataframe tbody tr th:only-of-type {\n",
       "        vertical-align: middle;\n",
       "    }\n",
       "\n",
       "    .dataframe tbody tr th {\n",
       "        vertical-align: top;\n",
       "    }\n",
       "\n",
       "    .dataframe thead th {\n",
       "        text-align: right;\n",
       "    }\n",
       "</style>\n",
       "<table border=\"1\" class=\"dataframe\">\n",
       "  <thead>\n",
       "    <tr style=\"text-align: right;\">\n",
       "      <th></th>\n",
       "      <th>X1</th>\n",
       "      <th>X2</th>\n",
       "      <th>X3</th>\n",
       "      <th>X4</th>\n",
       "      <th>X5</th>\n",
       "      <th>X6</th>\n",
       "      <th>X7</th>\n",
       "      <th>X8</th>\n",
       "      <th>X9</th>\n",
       "      <th>X10</th>\n",
       "      <th>X11</th>\n",
       "      <th>X12</th>\n",
       "      <th>X13</th>\n",
       "      <th>X14</th>\n",
       "      <th>X15</th>\n",
       "      <th>Y</th>\n",
       "    </tr>\n",
       "  </thead>\n",
       "  <tbody>\n",
       "    <tr>\n",
       "      <th>0</th>\n",
       "      <td>4.967142</td>\n",
       "      <td>-1.382643</td>\n",
       "      <td>NaN</td>\n",
       "      <td>15.230299</td>\n",
       "      <td>-2.341534</td>\n",
       "      <td>-2.341370</td>\n",
       "      <td>15.792128</td>\n",
       "      <td>7.674347</td>\n",
       "      <td>-4.694744</td>\n",
       "      <td>5.425600</td>\n",
       "      <td>-4.634177</td>\n",
       "      <td>-4.657298</td>\n",
       "      <td>2.419623</td>\n",
       "      <td>-19.132802</td>\n",
       "      <td>-17.249178</td>\n",
       "      <td>152.273643</td>\n",
       "    </tr>\n",
       "    <tr>\n",
       "      <th>1</th>\n",
       "      <td>-5.622875</td>\n",
       "      <td>-10.128311</td>\n",
       "      <td>3.142473</td>\n",
       "      <td>-9.080241</td>\n",
       "      <td>-14.123037</td>\n",
       "      <td>14.656488</td>\n",
       "      <td>-2.257763</td>\n",
       "      <td>NaN</td>\n",
       "      <td>-14.247482</td>\n",
       "      <td>-5.443827</td>\n",
       "      <td>1.109226</td>\n",
       "      <td>-11.509936</td>\n",
       "      <td>3.756980</td>\n",
       "      <td>-6.006387</td>\n",
       "      <td>-2.916937</td>\n",
       "      <td>144.947630</td>\n",
       "    </tr>\n",
       "    <tr>\n",
       "      <th>2</th>\n",
       "      <td>-6.017066</td>\n",
       "      <td>18.522782</td>\n",
       "      <td>-0.134972</td>\n",
       "      <td>-10.577109</td>\n",
       "      <td>8.225449</td>\n",
       "      <td>NaN</td>\n",
       "      <td>2.088636</td>\n",
       "      <td>-19.596701</td>\n",
       "      <td>-13.281860</td>\n",
       "      <td>1.968612</td>\n",
       "      <td>7.384666</td>\n",
       "      <td>1.713683</td>\n",
       "      <td>-1.156483</td>\n",
       "      <td>-3.011037</td>\n",
       "      <td>-14.785220</td>\n",
       "      <td>188.449076</td>\n",
       "    </tr>\n",
       "    <tr>\n",
       "      <th>3</th>\n",
       "      <td>-7.198442</td>\n",
       "      <td>-4.606388</td>\n",
       "      <td>NaN</td>\n",
       "      <td>3.436183</td>\n",
       "      <td>-17.630402</td>\n",
       "      <td>3.240840</td>\n",
       "      <td>-3.850823</td>\n",
       "      <td>-6.769220</td>\n",
       "      <td>6.116763</td>\n",
       "      <td>10.309995</td>\n",
       "      <td>9.312801</td>\n",
       "      <td>NaN</td>\n",
       "      <td>-3.092124</td>\n",
       "      <td>3.312634</td>\n",
       "      <td>9.755451</td>\n",
       "      <td>107.875692</td>\n",
       "    </tr>\n",
       "    <tr>\n",
       "      <th>4</th>\n",
       "      <td>-4.791742</td>\n",
       "      <td>-1.856590</td>\n",
       "      <td>-11.063350</td>\n",
       "      <td>-11.962066</td>\n",
       "      <td>8.125258</td>\n",
       "      <td>13.562400</td>\n",
       "      <td>-0.720101</td>\n",
       "      <td>10.035329</td>\n",
       "      <td>3.616360</td>\n",
       "      <td>-6.451198</td>\n",
       "      <td>3.613956</td>\n",
       "      <td>15.380366</td>\n",
       "      <td>-0.358260</td>\n",
       "      <td>15.646437</td>\n",
       "      <td>-26.197451</td>\n",
       "      <td>-78.724744</td>\n",
       "    </tr>\n",
       "  </tbody>\n",
       "</table>\n",
       "</div>"
      ],
      "text/plain": [
       "         X1         X2         X3         X4         X5         X6         X7  \\\n",
       "0  4.967142  -1.382643        NaN  15.230299  -2.341534  -2.341370  15.792128   \n",
       "1 -5.622875 -10.128311   3.142473  -9.080241 -14.123037  14.656488  -2.257763   \n",
       "2 -6.017066  18.522782  -0.134972 -10.577109   8.225449        NaN   2.088636   \n",
       "3 -7.198442  -4.606388        NaN   3.436183 -17.630402   3.240840  -3.850823   \n",
       "4 -4.791742  -1.856590 -11.063350 -11.962066   8.125258  13.562400  -0.720101   \n",
       "\n",
       "          X8         X9        X10       X11        X12       X13        X14  \\\n",
       "0   7.674347  -4.694744   5.425600 -4.634177  -4.657298  2.419623 -19.132802   \n",
       "1        NaN -14.247482  -5.443827  1.109226 -11.509936  3.756980  -6.006387   \n",
       "2 -19.596701 -13.281860   1.968612  7.384666   1.713683 -1.156483  -3.011037   \n",
       "3  -6.769220   6.116763  10.309995  9.312801        NaN -3.092124   3.312634   \n",
       "4  10.035329   3.616360  -6.451198  3.613956  15.380366 -0.358260  15.646437   \n",
       "\n",
       "         X15           Y  \n",
       "0 -17.249178  152.273643  \n",
       "1  -2.916937  144.947630  \n",
       "2 -14.785220  188.449076  \n",
       "3   9.755451  107.875692  \n",
       "4 -26.197451  -78.724744  "
      ]
     },
     "execution_count": 15,
     "metadata": {},
     "output_type": "execute_result"
    }
   ],
   "source": [
    "df.head()"
   ]
  },
  {
   "cell_type": "code",
   "execution_count": 16,
   "metadata": {},
   "outputs": [
    {
     "name": "stdout",
     "output_type": "stream",
     "text": [
      "X1     205\n",
      "X2     202\n",
      "X3     210\n",
      "X4     222\n",
      "X5     210\n",
      "X6     195\n",
      "X7     185\n",
      "X8     193\n",
      "X9     195\n",
      "X10    195\n",
      "X11    189\n",
      "X12    198\n",
      "X13    211\n",
      "X14    198\n",
      "X15    192\n",
      "Y        0\n",
      "dtype: int64\n"
     ]
    }
   ],
   "source": [
    "print(df.isnull().sum())"
   ]
  },
  {
   "cell_type": "code",
   "execution_count": null,
   "metadata": {},
   "outputs": [
    {
     "name": "stdout",
     "output_type": "stream",
     "text": [
      "Total de datos: 64000\n",
      "El porcentaje que representan de datos nulos en cada una de las categorías son los siguientes:\n",
      "X1: 0.32%\n",
      "X2: 0.32%\n",
      "X3: 0.33%\n",
      "X4: 0.35%\n",
      "X6: 0.30%\n"
     ]
    }
   ],
   "source": [
    "total_datos = df.size  \n",
    "print(f\"Total de datos: {total_datos}\")\n",
    "\n",
    "X1 = (205 / total_datos) * 100\n",
    "X2 = (202 / total_datos) * 100\n",
    "X3 = (210 / total_datos) * 100\n",
    "X4 = (222 / total_datos) * 100\n",
    "X6 = (195 / total_datos) * 100\n",
    "\n",
    "print(f\"El porcentaje que representan de datos nulos en cada una de las categorías son los siguientes:\\n\"\n",
    "      f\"X1: {X1:.2f}%\\n\"\n",
    "      f\"X2: {X2:.2f}%\\n\"\n",
    "      f\"X3: {X3:.2f}%\\n\"\n",
    "      f\"X4: {X4:.2f}%\\n\"\n",
    "      f\"X6: {X6:.2f}%\")\n"
   ]
  },
  {
   "cell_type": "markdown",
   "metadata": {},
   "source": [
    "## Normalización"
   ]
  },
  {
   "cell_type": "markdown",
   "metadata": {},
   "source": [
    "## Numpy"
   ]
  }
 ],
 "metadata": {
  "language_info": {
   "name": "python"
  }
 },
 "nbformat": 4,
 "nbformat_minor": 2
}
